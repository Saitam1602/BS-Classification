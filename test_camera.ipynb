{
 "cells": [
  {
   "cell_type": "code",
   "execution_count": 38,
   "metadata": {},
   "outputs": [],
   "source": [
    "import tensorflow as tf\n",
    "\n",
    "# Load your pre-trained model\n",
    "model = tf.keras.models.load_model('models/bs_amaterasu')"
   ]
  },
  {
   "cell_type": "code",
   "execution_count": null,
   "metadata": {},
   "outputs": [
    {
     "name": "stdout",
     "output_type": "stream",
     "text": [
      "(1, 300, 437, 3)\n",
      "1/1 [==============================] - 0s 17ms/step\n",
      "Predicted class: data-aug\\BS39-054\n",
      "Confidence scores for each class:\n",
      "data-aug\\BS39-054: 0.28724205493927\n",
      "data-aug\\BS43-084: 0.0001186834997497499\n",
      "data-aug\\BS51-002: 0.011941708624362946\n",
      "data-aug\\BS51-087: 0.00020962883718311787\n",
      "data-aug\\BS51-X01: 0.13788163661956787\n",
      "data-aug\\BS51-X04: 0.23684993386268616\n",
      "data-aug\\BS51-X08: 0.1505012959241867\n",
      "data-aug\\BS52-036: 0.0005995422252453864\n",
      "data-aug\\BS52-TX01: 0.0004874007136095315\n",
      "data-aug\\BS52-TX01_b: 7.577258656965569e-05\n",
      "data-aug\\BS52-TX02: 0.00017928828310687095\n",
      "data-aug\\BS52-TX02_b: 0.016776854172348976\n",
      "data-aug\\Defend: 0.1451345980167389\n",
      "data-aug\\Ishield: 5.9611775213852525e-05\n",
      "data-aug\\Sarume: 0.0016007001977413893\n",
      "data-aug\\SD63-001: 0.00023452183813787997\n",
      "data-aug\\SD63-002: 0.0002905227884184569\n",
      "data-aug\\SD63-003: 0.0007246786262840033\n",
      "data-aug\\SD63-004: 0.0005211576353758574\n",
      "data-aug\\SD63-TX01_29: 0.00028337581898085773\n",
      "data-aug\\SD63-TX01_29_2: 0.004457375034689903\n",
      "data-aug\\SD63-X01: 0.003329589730128646\n",
      "data-aug\\Sdrag: 0.0005000504315830767\n"
     ]
    }
   ],
   "source": [
    "from PIL import Image\n",
    "import numpy as np\n",
    "import glob\n",
    "\n",
    "# Function to resize and preprocess the test image\n",
    "def preprocess_test_image(image_path, target_size):\n",
    "    img = Image.open(image_path)\n",
    "    img = img.resize(target_size)\n",
    "    img.show()\n",
    "    img = np.array(img) / 255.0\n",
    "    img = np.expand_dims(img, axis=0)\n",
    "    return img\n",
    "\n",
    "# Path to the test image you want to use\n",
    "test_image_path = 'rn_image_picker_lib_temp_1a8f37c8-d574-4340-929c-0b65880193e6.jpg'  # Replace with the actual path to the image\n",
    "\n",
    "input_width, input_height = 437, 300\n",
    "\n",
    "label_names = glob.glob('data-aug' + '/*')\n",
    "\n",
    "# Resize and preprocess the test image\n",
    "resized_test_img = preprocess_test_image(test_image_path, (input_width, input_height))\n",
    "\n",
    "print(resized_test_img.shape)\n",
    "\n",
    "# Make predictions\n",
    "predictions = model.predict(resized_test_img)\n",
    "\n",
    "# Get the predicted class label\n",
    "predicted_class_index = np.argmax(predictions)\n",
    "predicted_class_label = label_names[predicted_class_index]\n",
    "\n",
    "# Print the results\n",
    "print(f\"Predicted class: {predicted_class_label}\")\n",
    "print(\"Confidence scores for each class:\")\n",
    "for class_label, confidence_score in zip(label_names, predictions[0]):\n",
    "    print(f\"{class_label}: {confidence_score}\")\n",
    "\n",
    "\n"
   ]
  }
 ],
 "metadata": {
  "kernelspec": {
   "display_name": "Python 3",
   "language": "python",
   "name": "python3"
  },
  "language_info": {
   "codemirror_mode": {
    "name": "ipython",
    "version": 3
   },
   "file_extension": ".py",
   "mimetype": "text/x-python",
   "name": "python",
   "nbconvert_exporter": "python",
   "pygments_lexer": "ipython3",
   "version": "3.10.9"
  },
  "orig_nbformat": 4
 },
 "nbformat": 4,
 "nbformat_minor": 2
}
