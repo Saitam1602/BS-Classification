{
 "cells": [
  {
   "cell_type": "code",
   "execution_count": 36,
   "metadata": {},
   "outputs": [],
   "source": [
    "import glob\n",
    "import os\n",
    "import tensorflow as tf\n",
    "import numpy as np\n",
    "from PIL import Image"
   ]
  },
  {
   "cell_type": "code",
   "execution_count": 37,
   "metadata": {},
   "outputs": [
    {
     "name": "stdout",
     "output_type": "stream",
     "text": [
      "data-origin\\BS39-054.jpg\n",
      "data-origin\\BS43-084.jpg\n",
      "data-origin\\BS51-002.jpg\n",
      "data-origin\\BS51-087.jpg\n",
      "data-origin\\BS51-X01.jpg\n",
      "data-origin\\BS51-X04.jpg\n",
      "data-origin\\BS51-X08.jpg\n",
      "data-origin\\BS52-036.jpg\n",
      "data-origin\\BS52-TX01.jpg\n",
      "data-origin\\BS52-TX01_b.jpg\n",
      "data-origin\\BS52-TX02.jpg\n",
      "data-origin\\BS52-TX02_b.jpg\n",
      "data-origin\\Defend.jpg\n",
      "data-origin\\Ishield.jpg\n",
      "data-origin\\Sarume.jpg\n",
      "data-origin\\SD63-001.jpg\n",
      "data-origin\\SD63-002.jpg\n",
      "data-origin\\SD63-003.jpg\n",
      "data-origin\\SD63-004.jpg\n",
      "data-origin\\SD63-TX01_29.jpg\n",
      "data-origin\\SD63-TX01_29_2.jpg\n",
      "data-origin\\SD63-X01.jpg\n",
      "data-origin\\Sdrag.jpg\n"
     ]
    }
   ],
   "source": [
    "input_folder = 'data-origin'\n",
    "output_folder = 'data-aug'\n",
    "\n",
    "for f in glob.glob(input_folder + '/*'):\n",
    "    print(f)"
   ]
  },
  {
   "cell_type": "code",
   "execution_count": 38,
   "metadata": {},
   "outputs": [
    {
     "name": "stdout",
     "output_type": "stream",
     "text": [
      "folder exists: data-aug\n"
     ]
    }
   ],
   "source": [
    "try:\n",
    "    os.mkdir(output_folder)\n",
    "except:\n",
    "    print('folder exists:', output_folder)\n",
    "for f in glob.glob(input_folder + '/*'):\n",
    "    try:\n",
    "        os.mkdir(output_folder + '\\\\' + f.split(\"\\\\\")[-1].replace(\".jpg\", \"\"))\n",
    "    except:\n",
    "        print('folder exists:', output_folder + '\\\\' + f.split(\"\\\\\")[-1].replace(\".jpg\", \"\"))"
   ]
  },
  {
   "cell_type": "code",
   "execution_count": 39,
   "metadata": {},
   "outputs": [],
   "source": [
    "datagen = tf.keras.preprocessing.image.ImageDataGenerator(\n",
    "    rotation_range=40,\n",
    "    width_shift_range=0.2,\n",
    "    height_shift_range=0.2,\n",
    "    shear_range=0.2,\n",
    "    zoom_range=0.2,\n",
    "    fill_mode='constant'\n",
    ")"
   ]
  },
  {
   "cell_type": "code",
   "execution_count": 40,
   "metadata": {},
   "outputs": [],
   "source": [
    "for image in glob.glob(input_folder + '/*'):\n",
    "    print(image)\n",
    "    img = Image.open(image).convert(\"RGB\")\n",
    "    x = np.array(img)\n",
    "    x = x.reshape((1,) + x.shape)\n",
    "    i = 0\n",
    "    for batch in datagen.flow(x, batch_size=1, save_to_dir=output_folder + '\\\\' + image.split(\"\\\\\")[-1].replace(\".jpg\", \"\"), save_prefix='aug', save_format='jpg'):\n",
    "        i += 1\n",
    "        if i > 30:\n",
    "            break"
   ]
  }
 ],
 "metadata": {
  "kernelspec": {
   "display_name": "Python 3",
   "language": "python",
   "name": "python3"
  },
  "language_info": {
   "codemirror_mode": {
    "name": "ipython",
    "version": 3
   },
   "file_extension": ".py",
   "mimetype": "text/x-python",
   "name": "python",
   "nbconvert_exporter": "python",
   "pygments_lexer": "ipython3",
   "version": "3.10.9"
  },
  "orig_nbformat": 4
 },
 "nbformat": 4,
 "nbformat_minor": 2
}
