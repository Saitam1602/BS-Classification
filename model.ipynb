{
 "cells": [
  {
   "cell_type": "code",
   "execution_count": 10,
   "metadata": {},
   "outputs": [],
   "source": [
    "import tensorflow as tf\n",
    "from tensorflow.keras.models import Sequential\n",
    "from tensorflow.keras.layers import Conv2D, MaxPooling2D, Flatten, Dense, Dropout\n",
    "\n",
    "# Define the CNN model\n",
    "def create_cnn_model(input_shape, num_classes):\n",
    "    model = Sequential([\n",
    "        Conv2D(32, (3, 3), activation='relu', input_shape=input_shape),\n",
    "        MaxPooling2D((2, 2)),\n",
    "        Conv2D(64, (3, 3), activation='relu'),\n",
    "        MaxPooling2D((2, 2)),\n",
    "        Conv2D(128, (3, 3), activation='relu'),\n",
    "        MaxPooling2D((2, 2)),\n",
    "        Flatten(),\n",
    "        Dense(256, activation='relu'),\n",
    "        Dropout(0.5),\n",
    "        Dense(num_classes, activation='softmax')\n",
    "    ])\n",
    "    return model"
   ]
  },
  {
   "cell_type": "code",
   "execution_count": 11,
   "metadata": {},
   "outputs": [
    {
     "name": "stdout",
     "output_type": "stream",
     "text": [
      "Model: \"sequential_2\"\n",
      "_________________________________________________________________\n",
      " Layer (type)                Output Shape              Param #   \n",
      "=================================================================\n",
      " conv2d_6 (Conv2D)           (None, 298, 435, 32)      896       \n",
      "                                                                 \n",
      " max_pooling2d_6 (MaxPooling  (None, 149, 217, 32)     0         \n",
      " 2D)                                                             \n",
      "                                                                 \n",
      " conv2d_7 (Conv2D)           (None, 147, 215, 64)      18496     \n",
      "                                                                 \n",
      " max_pooling2d_7 (MaxPooling  (None, 73, 107, 64)      0         \n",
      " 2D)                                                             \n",
      "                                                                 \n",
      " conv2d_8 (Conv2D)           (None, 71, 105, 128)      73856     \n",
      "                                                                 \n",
      " max_pooling2d_8 (MaxPooling  (None, 35, 52, 128)      0         \n",
      " 2D)                                                             \n",
      "                                                                 \n",
      " flatten_2 (Flatten)         (None, 232960)            0         \n",
      "                                                                 \n",
      " dense_4 (Dense)             (None, 256)               59638016  \n",
      "                                                                 \n",
      " dropout_2 (Dropout)         (None, 256)               0         \n",
      "                                                                 \n",
      " dense_5 (Dense)             (None, 23)                5911      \n",
      "                                                                 \n",
      "=================================================================\n",
      "Total params: 59,737,175\n",
      "Trainable params: 59,737,175\n",
      "Non-trainable params: 0\n",
      "_________________________________________________________________\n"
     ]
    }
   ],
   "source": [
    "import glob\n",
    "\n",
    "# Directory where augmented images are stored\n",
    "train_data_dir = \"data-aug\"\n",
    "\n",
    "input_width, input_height = 300, 437\n",
    "input_channels = 3\n",
    "input_shape = (input_width, input_height, input_channels)\n",
    "\n",
    "# Define the number of classes (labels)\n",
    "num_classes = len(glob.glob(train_data_dir+ '/*'))\n",
    "\n",
    "# Create the CNN model\n",
    "model = create_cnn_model(input_shape, num_classes)\n",
    "\n",
    "# Compile the model\n",
    "model.compile(optimizer='adam',\n",
    "              loss='categorical_crossentropy',\n",
    "              metrics=['accuracy'])\n",
    "\n",
    "# Print the model summary\n",
    "model.summary()"
   ]
  },
  {
   "cell_type": "code",
   "execution_count": 12,
   "metadata": {},
   "outputs": [
    {
     "name": "stdout",
     "output_type": "stream",
     "text": [
      "Found 575 images belonging to 23 classes.\n"
     ]
    },
    {
     "name": "stdout",
     "output_type": "stream",
     "text": [
      "Found 138 images belonging to 23 classes.\n",
      "Epoch 1/20\n",
      "71/71 [==============================] - 15s 201ms/step - loss: 3.3892 - accuracy: 0.0617 - val_loss: 2.9566 - val_accuracy: 0.1324\n",
      "Epoch 2/20\n",
      "71/71 [==============================] - 13s 186ms/step - loss: 2.8530 - accuracy: 0.1287 - val_loss: 2.3335 - val_accuracy: 0.2059\n",
      "Epoch 3/20\n",
      "71/71 [==============================] - 13s 189ms/step - loss: 2.2755 - accuracy: 0.2998 - val_loss: 1.6884 - val_accuracy: 0.3824\n",
      "Epoch 4/20\n",
      "71/71 [==============================] - 13s 188ms/step - loss: 1.5874 - accuracy: 0.5220 - val_loss: 1.4298 - val_accuracy: 0.5809\n",
      "Epoch 5/20\n",
      "71/71 [==============================] - 13s 187ms/step - loss: 0.9685 - accuracy: 0.6966 - val_loss: 0.7620 - val_accuracy: 0.7794\n",
      "Epoch 6/20\n",
      "71/71 [==============================] - 13s 187ms/step - loss: 0.7826 - accuracy: 0.7619 - val_loss: 0.6844 - val_accuracy: 0.7868\n",
      "Epoch 7/20\n",
      "71/71 [==============================] - 13s 188ms/step - loss: 0.4512 - accuracy: 0.8730 - val_loss: 0.4901 - val_accuracy: 0.8382\n",
      "Epoch 8/20\n",
      "71/71 [==============================] - 13s 187ms/step - loss: 0.3208 - accuracy: 0.9118 - val_loss: 0.6588 - val_accuracy: 0.8162\n",
      "Epoch 9/20\n",
      "71/71 [==============================] - 13s 186ms/step - loss: 0.4227 - accuracy: 0.8765 - val_loss: 0.5463 - val_accuracy: 0.8088\n",
      "Epoch 10/20\n",
      "71/71 [==============================] - 13s 188ms/step - loss: 0.2827 - accuracy: 0.9136 - val_loss: 0.3407 - val_accuracy: 0.8676\n",
      "Epoch 11/20\n",
      "71/71 [==============================] - 13s 188ms/step - loss: 0.2331 - accuracy: 0.9277 - val_loss: 0.7920 - val_accuracy: 0.8162\n",
      "Epoch 12/20\n",
      "71/71 [==============================] - 13s 188ms/step - loss: 0.4074 - accuracy: 0.8977 - val_loss: 0.3263 - val_accuracy: 0.9118\n",
      "Epoch 13/20\n",
      "71/71 [==============================] - 13s 186ms/step - loss: 0.1693 - accuracy: 0.9436 - val_loss: 0.3147 - val_accuracy: 0.8824\n",
      "Epoch 14/20\n",
      "71/71 [==============================] - 13s 186ms/step - loss: 0.2563 - accuracy: 0.9365 - val_loss: 0.4046 - val_accuracy: 0.8897\n",
      "Epoch 15/20\n",
      "71/71 [==============================] - 13s 187ms/step - loss: 0.1106 - accuracy: 0.9647 - val_loss: 0.2020 - val_accuracy: 0.9118\n",
      "Epoch 16/20\n",
      "71/71 [==============================] - 13s 189ms/step - loss: 0.1589 - accuracy: 0.9541 - val_loss: 0.5302 - val_accuracy: 0.8824\n",
      "Epoch 17/20\n",
      "71/71 [==============================] - 13s 187ms/step - loss: 0.1669 - accuracy: 0.9453 - val_loss: 0.2999 - val_accuracy: 0.9044\n",
      "Epoch 18/20\n",
      "71/71 [==============================] - 13s 187ms/step - loss: 0.1614 - accuracy: 0.9436 - val_loss: 0.4771 - val_accuracy: 0.8824\n",
      "Epoch 19/20\n",
      "71/71 [==============================] - 13s 187ms/step - loss: 0.1005 - accuracy: 0.9612 - val_loss: 0.2768 - val_accuracy: 0.9118\n",
      "Epoch 20/20\n",
      "71/71 [==============================] - 13s 185ms/step - loss: 0.1209 - accuracy: 0.9735 - val_loss: 0.5244 - val_accuracy: 0.8529\n"
     ]
    }
   ],
   "source": [
    "from tensorflow.keras.preprocessing.image import ImageDataGenerator\n",
    "\n",
    "\n",
    "\n",
    "# Data augmentation for training set\n",
    "train_datagen = ImageDataGenerator(rescale=1.0 / 255,  # normalize pixel values to [0,1]\n",
    "                                   shear_range=0.2,\n",
    "                                   zoom_range=0.2,\n",
    "                                   validation_split=0.2)  # 20% of the data will be used for validation\n",
    "\n",
    "# Set batch size\n",
    "batch_size = 8\n",
    "\n",
    "# Training set generator\n",
    "train_generator = train_datagen.flow_from_directory(\n",
    "    train_data_dir,\n",
    "    target_size=(input_width, input_height),\n",
    "    batch_size=batch_size,\n",
    "    class_mode='categorical',\n",
    "    subset='training'\n",
    ")\n",
    "\n",
    "# Validation set generator\n",
    "validation_generator = train_datagen.flow_from_directory(\n",
    "    train_data_dir,\n",
    "    target_size=(input_width, input_height),\n",
    "    batch_size=batch_size,\n",
    "    class_mode='categorical',\n",
    "    subset='validation'\n",
    ")\n",
    "\n",
    "# Train the model\n",
    "epochs = 20\n",
    "history = model.fit(train_generator,\n",
    "                    steps_per_epoch=train_generator.samples // batch_size,\n",
    "                    validation_data=validation_generator,\n",
    "                    validation_steps=validation_generator.samples // batch_size,\n",
    "                    epochs=epochs)"
   ]
  },
  {
   "cell_type": "code",
   "execution_count": 15,
   "metadata": {},
   "outputs": [
    {
     "name": "stderr",
     "output_type": "stream",
     "text": [
      "WARNING:absl:Found untraced functions such as _jit_compiled_convolution_op, _jit_compiled_convolution_op, _jit_compiled_convolution_op while saving (showing 3 of 3). These functions will not be directly callable after loading.\n"
     ]
    },
    {
     "name": "stdout",
     "output_type": "stream",
     "text": [
      "INFO:tensorflow:Assets written to: models/bs_amaterasu\\assets\n"
     ]
    },
    {
     "name": "stderr",
     "output_type": "stream",
     "text": [
      "INFO:tensorflow:Assets written to: models/bs_amaterasu\\assets\n"
     ]
    }
   ],
   "source": [
    "model.save('models/bs_amaterasu')"
   ]
  }
 ],
 "metadata": {
  "kernelspec": {
   "display_name": "Python 3",
   "language": "python",
   "name": "python3"
  },
  "language_info": {
   "codemirror_mode": {
    "name": "ipython",
    "version": 3
   },
   "file_extension": ".py",
   "mimetype": "text/x-python",
   "name": "python",
   "nbconvert_exporter": "python",
   "pygments_lexer": "ipython3",
   "version": "3.10.9"
  },
  "orig_nbformat": 4
 },
 "nbformat": 4,
 "nbformat_minor": 2
}
